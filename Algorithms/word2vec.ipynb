{
 "cells": [
  {
   "cell_type": "code",
   "execution_count": 22,
   "id": "d668197c",
   "metadata": {},
   "outputs": [],
   "source": [
    "import torch\n",
    "from torch import nn\n",
    "import nltk\n",
    "from nltk.corpus import words, stopwords\n",
    "from nltk.tokenize import word_tokenize\n",
    "import numpy as np\n",
    "from sklearn.preprocessing import OneHotEncoder\n",
    "from sklearn.model_selection import train_test_split"
   ]
  },
  {
   "cell_type": "code",
   "execution_count": 12,
   "id": "d66b873a",
   "metadata": {},
   "outputs": [
    {
     "name": "stderr",
     "output_type": "stream",
     "text": [
      "[nltk_data] Downloading package stopwords to /home/pranav-\n",
      "[nltk_data]     rao/nltk_data...\n",
      "[nltk_data]   Unzipping corpora/stopwords.zip.\n"
     ]
    }
   ],
   "source": [
    "nltk.download('stopwords')\n",
    "stop_words = set(stopwords.words('english'))"
   ]
  },
  {
   "cell_type": "code",
   "execution_count": 4,
   "id": "e5297fba",
   "metadata": {},
   "outputs": [],
   "source": [
    "with open('gutenberg.txt', 'r') as f:\n",
    "    sentences = f.readlines()"
   ]
  },
  {
   "cell_type": "code",
   "execution_count": 52,
   "id": "e65a203d",
   "metadata": {},
   "outputs": [],
   "source": [
    "total_vocab = [sentence.lower().split(' ') for sentence in sentences][:10000]"
   ]
  },
  {
   "cell_type": "code",
   "execution_count": 53,
   "id": "9d16027b",
   "metadata": {},
   "outputs": [],
   "source": [
    "for i in range(len(total_vocab)):\n",
    "    total_vocab[i] = [\n",
    "        total_vocab[i][j]\n",
    "        for j in range(len(total_vocab[i]))\n",
    "        if total_vocab[i][j] not in stop_words\n",
    "    ]"
   ]
  },
  {
   "cell_type": "code",
   "execution_count": 54,
   "id": "e7a16288",
   "metadata": {},
   "outputs": [],
   "source": [
    "words = []\n",
    "for i in range(len(total_vocab)):\n",
    "    for j in range(len(total_vocab[i])):\n",
    "        words.append(total_vocab[i][j])"
   ]
  },
  {
   "cell_type": "code",
   "execution_count": 55,
   "id": "43837efd",
   "metadata": {},
   "outputs": [],
   "source": [
    "words = list(set(words))"
   ]
  },
  {
   "cell_type": "code",
   "execution_count": 56,
   "id": "a42a22f7",
   "metadata": {},
   "outputs": [],
   "source": [
    "np.random.shuffle(words)"
   ]
  },
  {
   "cell_type": "code",
   "execution_count": 57,
   "id": "1585c05a",
   "metadata": {},
   "outputs": [
    {
     "data": {
      "text/plain": [
       "14452"
      ]
     },
     "execution_count": 57,
     "metadata": {},
     "output_type": "execute_result"
    }
   ],
   "source": [
    "len(words)"
   ]
  },
  {
   "cell_type": "code",
   "execution_count": 58,
   "id": "615f80a3",
   "metadata": {},
   "outputs": [],
   "source": [
    "word_to_ind = dict()\n",
    "ind_to_word = dict()"
   ]
  },
  {
   "cell_type": "code",
   "execution_count": 59,
   "id": "8abca728",
   "metadata": {},
   "outputs": [],
   "source": [
    "for i, word in enumerate(words):\n",
    "    word_to_ind[word] = i\n",
    "    ind_to_word[i] = word"
   ]
  },
  {
   "cell_type": "code",
   "execution_count": 60,
   "id": "a5f13ab6",
   "metadata": {},
   "outputs": [],
   "source": [
    "window_size = 2"
   ]
  },
  {
   "cell_type": "code",
   "execution_count": 63,
   "id": "d3268b74",
   "metadata": {},
   "outputs": [],
   "source": [
    "init_matrix = np.zeros((len(words), len(words)))"
   ]
  },
  {
   "cell_type": "code",
   "execution_count": 64,
   "id": "5b4e7d67",
   "metadata": {},
   "outputs": [],
   "source": [
    "for word in words:\n",
    "    index = word_to_ind[word]\n",
    "    init_matrix[index, index] = 1"
   ]
  },
  {
   "cell_type": "code",
   "execution_count": null,
   "id": "1b339e85",
   "metadata": {},
   "outputs": [],
   "source": [
    "dataset = []\n",
    "for i in range(len(total_vocab)):\n",
    "    sentence = total_vocab[i]\n",
    "\n",
    "    for j in range(window_size, len(sentence) - window_size):\n",
    "        window = sentence[j - window_size: j + window_size]\n",
    "        target = sentence[j]\n",
    "\n",
    "        for word in window:\n",
    "            if word != target:\n",
    "                dataset.append([\n",
    "                    init_matrix[word_to_ind[word]],\n",
    "                    init_matrix[word_to_ind[target]]\n",
    "                ])\n",
    "dataset = np.array(dataset)                "
   ]
  },
  {
   "cell_type": "code",
   "execution_count": 66,
   "id": "1639dd0d",
   "metadata": {},
   "outputs": [
    {
     "ename": "AttributeError",
     "evalue": "'list' object has no attribute 'shape'",
     "output_type": "error",
     "traceback": [
      "\u001b[0;31m---------------------------------------------------------------------------\u001b[0m",
      "\u001b[0;31mAttributeError\u001b[0m                            Traceback (most recent call last)",
      "Cell \u001b[0;32mIn[66], line 1\u001b[0m\n\u001b[0;32m----> 1\u001b[0m dataset\u001b[38;5;241m.\u001b[39mshape\n",
      "\u001b[0;31mAttributeError\u001b[0m: 'list' object has no attribute 'shape'"
     ]
    }
   ],
   "source": [
    "dataset.shape"
   ]
  },
  {
   "cell_type": "code",
   "execution_count": 2,
   "id": "04e62e52",
   "metadata": {},
   "outputs": [],
   "source": [
    "import numpy as np"
   ]
  },
  {
   "cell_type": "code",
   "execution_count": 3,
   "id": "7dd9aaf3",
   "metadata": {},
   "outputs": [
    {
     "name": "stdout",
     "output_type": "stream",
     "text": [
      "Hello world\n"
     ]
    }
   ],
   "source": [
    "print(\"Hello world\")"
   ]
  },
  {
   "cell_type": "code",
   "execution_count": null,
   "id": "7e960e3c",
   "metadata": {},
   "outputs": [],
   "source": []
  }
 ],
 "metadata": {
  "kernelspec": {
   "display_name": "base",
   "language": "python",
   "name": "python3"
  },
  "language_info": {
   "codemirror_mode": {
    "name": "ipython",
    "version": 3
   },
   "file_extension": ".py",
   "mimetype": "text/x-python",
   "name": "python",
   "nbconvert_exporter": "python",
   "pygments_lexer": "ipython3",
   "version": "3.13.5"
  }
 },
 "nbformat": 4,
 "nbformat_minor": 5
}
