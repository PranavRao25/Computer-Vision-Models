{
 "cells": [
  {
   "cell_type": "code",
   "execution_count": 19,
   "id": "552617e3",
   "metadata": {},
   "outputs": [],
   "source": [
    "import torch\n",
    "from torch import nn"
   ]
  },
  {
   "cell_type": "code",
   "execution_count": 3,
   "id": "f96987cd",
   "metadata": {},
   "outputs": [],
   "source": [
    "scaler = torch.tensor(7)"
   ]
  },
  {
   "cell_type": "code",
   "execution_count": 7,
   "id": "f5213d23",
   "metadata": {},
   "outputs": [
    {
     "data": {
      "text/plain": [
       "(tensor(7), 0, 7)"
      ]
     },
     "execution_count": 7,
     "metadata": {},
     "output_type": "execute_result"
    }
   ],
   "source": [
    "scaler, scaler.ndim, scaler.item()  # item works only with a scaler tensor"
   ]
  },
  {
   "cell_type": "code",
   "execution_count": 8,
   "id": "a36368c2",
   "metadata": {},
   "outputs": [],
   "source": [
    "vector = torch.tensor([7, 7])"
   ]
  },
  {
   "cell_type": "code",
   "execution_count": 9,
   "id": "66fc6eba",
   "metadata": {},
   "outputs": [
    {
     "data": {
      "text/plain": [
       "(1, torch.Size([2]))"
      ]
     },
     "execution_count": 9,
     "metadata": {},
     "output_type": "execute_result"
    }
   ],
   "source": [
    "vector.ndim, vector.shape"
   ]
  },
  {
   "cell_type": "code",
   "execution_count": 10,
   "id": "173a0841",
   "metadata": {},
   "outputs": [],
   "source": [
    "random_tensor = torch.rand(size=(1, 3))"
   ]
  },
  {
   "cell_type": "code",
   "execution_count": 11,
   "id": "8451e4d6",
   "metadata": {},
   "outputs": [
    {
     "data": {
      "text/plain": [
       "tensor([[0.0244, 0.1978, 0.7303]])"
      ]
     },
     "execution_count": 11,
     "metadata": {},
     "output_type": "execute_result"
    }
   ],
   "source": [
    "random_tensor"
   ]
  },
  {
   "cell_type": "code",
   "execution_count": 12,
   "id": "ffb79323",
   "metadata": {},
   "outputs": [],
   "source": [
    "r1, r2 = torch.rand(size=(1, 3), dtype=torch.float32), torch.rand(size=(1, 3), dtype=torch.float64)"
   ]
  },
  {
   "cell_type": "code",
   "execution_count": 13,
   "id": "c83fabbd",
   "metadata": {},
   "outputs": [],
   "source": [
    "r = r1 + r2"
   ]
  },
  {
   "cell_type": "code",
   "execution_count": 15,
   "id": "617b293a",
   "metadata": {},
   "outputs": [
    {
     "data": {
      "text/plain": [
       "(tensor([[0.7844, 0.8609, 0.3162]]),\n",
       " tensor([[0.5545, 0.0894, 0.3624]], dtype=torch.float64),\n",
       " tensor([[1.3389, 0.9503, 0.6786]], dtype=torch.float64))"
      ]
     },
     "execution_count": 15,
     "metadata": {},
     "output_type": "execute_result"
    }
   ],
   "source": [
    "r1, r2, r"
   ]
  },
  {
   "cell_type": "code",
   "execution_count": 14,
   "id": "b1f6a6ff",
   "metadata": {},
   "outputs": [
    {
     "data": {
      "text/plain": [
       "torch.float64"
      ]
     },
     "execution_count": 14,
     "metadata": {},
     "output_type": "execute_result"
    }
   ],
   "source": [
    "r.dtype"
   ]
  },
  {
   "cell_type": "code",
   "execution_count": 16,
   "id": "f7079d44",
   "metadata": {},
   "outputs": [
    {
     "data": {
      "text/plain": [
       "(torch.Size([1, 3]), torch.Size([1, 3]))"
      ]
     },
     "execution_count": 16,
     "metadata": {},
     "output_type": "execute_result"
    }
   ],
   "source": [
    "r1.shape, r2.shape"
   ]
  },
  {
   "cell_type": "code",
   "execution_count": null,
   "id": "45290634",
   "metadata": {},
   "outputs": [
    {
     "data": {
      "text/plain": [
       "tensor([[1.0733]], dtype=torch.float64)"
      ]
     },
     "execution_count": 18,
     "metadata": {},
     "output_type": "execute_result"
    }
   ],
   "source": [
    "r @ r2.T  # matrix multiplication requires both to have same data types"
   ]
  },
  {
   "cell_type": "code",
   "execution_count": 20,
   "id": "2ffa0085",
   "metadata": {},
   "outputs": [],
   "source": [
    "torch.manual_seed(42)\n",
    "linear = nn.Linear(in_features=2, out_features=6)"
   ]
  },
  {
   "cell_type": "code",
   "execution_count": 31,
   "id": "1d351cce",
   "metadata": {},
   "outputs": [],
   "source": [
    "tensor_A = torch.tensor([\n",
    "    [1, 2],\n",
    "    [3, 4],\n",
    "    [5, 6],\n",
    "    [3, 5]\n",
    "], dtype=torch.float32)\n",
    "x = tensor_A\n",
    "output = linear(x)"
   ]
  },
  {
   "cell_type": "code",
   "execution_count": 32,
   "id": "33ca27ea",
   "metadata": {},
   "outputs": [
    {
     "data": {
      "text/plain": [
       "(tensor([[1., 2.],\n",
       "         [3., 4.],\n",
       "         [5., 6.],\n",
       "         [3., 5.]]),\n",
       " Parameter containing:\n",
       " tensor([[ 0.5406,  0.5869],\n",
       "         [-0.1657,  0.6496],\n",
       "         [-0.1549,  0.1427],\n",
       "         [-0.3443,  0.4153],\n",
       "         [ 0.6233, -0.5188],\n",
       "         [ 0.6146,  0.1323]], requires_grad=True),\n",
       " tensor([[ 2.2368,  1.2292,  0.4714,  0.3864,  0.1309,  0.9838],\n",
       "         [ 4.4919,  2.1970,  0.4469,  0.5285,  0.3401,  2.4777],\n",
       "         [ 6.7469,  3.1648,  0.4224,  0.6705,  0.5493,  3.9716],\n",
       "         [ 5.0788,  2.8466,  0.5896,  0.9437, -0.1786,  2.6101]],\n",
       "        grad_fn=<AddmmBackward0>))"
      ]
     },
     "execution_count": 32,
     "metadata": {},
     "output_type": "execute_result"
    }
   ],
   "source": [
    "x, linear.weight, output"
   ]
  },
  {
   "cell_type": "code",
   "execution_count": 33,
   "id": "97918f86",
   "metadata": {},
   "outputs": [
    {
     "data": {
      "text/plain": [
       "(torch.Size([4, 2]), torch.Size([6, 2]), torch.Size([4, 6]))"
      ]
     },
     "execution_count": 33,
     "metadata": {},
     "output_type": "execute_result"
    }
   ],
   "source": [
    "x.shape, linear.weight.shape, output.shape"
   ]
  },
  {
   "cell_type": "code",
   "execution_count": 36,
   "id": "2c83bd37",
   "metadata": {},
   "outputs": [
    {
     "data": {
      "text/plain": [
       "(tensor(6.), tensor(1.), tensor(3.6250), tensor(29.), tensor(5), tensor(0))"
      ]
     },
     "execution_count": 36,
     "metadata": {},
     "output_type": "execute_result"
    }
   ],
   "source": [
    "x.max(), x.min(), x.type(torch.float32).mean(), x.sum(), x.argmax(), x.argmin()"
   ]
  },
  {
   "cell_type": "code",
   "execution_count": 37,
   "id": "8a64cb00",
   "metadata": {},
   "outputs": [
    {
     "data": {
      "text/plain": [
       "torch.Size([4, 2])"
      ]
     },
     "execution_count": 37,
     "metadata": {},
     "output_type": "execute_result"
    }
   ],
   "source": [
    "x.shape"
   ]
  },
  {
   "cell_type": "code",
   "execution_count": 40,
   "id": "31c8c251",
   "metadata": {},
   "outputs": [
    {
     "data": {
      "text/plain": [
       "tensor([[[1., 2., 3., 4., 5., 6., 3., 5.]]])"
      ]
     },
     "execution_count": 40,
     "metadata": {},
     "output_type": "execute_result"
    }
   ],
   "source": [
    "z = x.reshape(1,  1, 8)\n",
    "z"
   ]
  },
  {
   "cell_type": "code",
   "execution_count": 42,
   "id": "f2a518e1",
   "metadata": {},
   "outputs": [
    {
     "data": {
      "text/plain": [
       "tensor([1., 2., 3., 4., 5., 6., 3., 5.])"
      ]
     },
     "execution_count": 42,
     "metadata": {},
     "output_type": "execute_result"
    }
   ],
   "source": [
    "z.view(8)"
   ]
  },
  {
   "cell_type": "code",
   "execution_count": 43,
   "id": "d4c12de2",
   "metadata": {},
   "outputs": [
    {
     "data": {
      "text/plain": [
       "tensor([[1., 2.],\n",
       "        [3., 4.],\n",
       "        [5., 6.],\n",
       "        [3., 5.]])"
      ]
     },
     "execution_count": 43,
     "metadata": {},
     "output_type": "execute_result"
    }
   ],
   "source": [
    "x"
   ]
  },
  {
   "cell_type": "code",
   "execution_count": 44,
   "id": "c04b253a",
   "metadata": {},
   "outputs": [
    {
     "data": {
      "text/plain": [
       "torch.Size([4, 2])"
      ]
     },
     "execution_count": 44,
     "metadata": {},
     "output_type": "execute_result"
    }
   ],
   "source": [
    "x.shape"
   ]
  },
  {
   "cell_type": "code",
   "execution_count": 45,
   "id": "4638bf51",
   "metadata": {},
   "outputs": [],
   "source": [
    "a = torch.rand_like(x)"
   ]
  },
  {
   "cell_type": "code",
   "execution_count": 49,
   "id": "a0eda687",
   "metadata": {},
   "outputs": [
    {
     "data": {
      "text/plain": [
       "2"
      ]
     },
     "execution_count": 49,
     "metadata": {},
     "output_type": "execute_result"
    }
   ],
   "source": [
    "x.ndim"
   ]
  },
  {
   "cell_type": "code",
   "execution_count": 50,
   "id": "3973e7f1",
   "metadata": {},
   "outputs": [
    {
     "data": {
      "text/plain": [
       "(torch.Size([2, 4, 2]), torch.Size([4, 2, 2]))"
      ]
     },
     "execution_count": 50,
     "metadata": {},
     "output_type": "execute_result"
    }
   ],
   "source": [
    "b = torch.stack([x, a], dim=0)\n",
    "c = torch.stack([x, a], dim=1)\n",
    "b.shape, c.shape"
   ]
  },
  {
   "cell_type": "code",
   "execution_count": 54,
   "id": "9e61f6c5",
   "metadata": {},
   "outputs": [
    {
     "data": {
      "text/plain": [
       "(torch.Size([4, 2]),\n",
       " torch.Size([4, 2]),\n",
       " torch.Size([2, 4, 2]),\n",
       " torch.Size([4, 2, 2]))"
      ]
     },
     "execution_count": 54,
     "metadata": {},
     "output_type": "execute_result"
    }
   ],
   "source": [
    "x.shape, a.shape, b.shape, c.shape"
   ]
  },
  {
   "cell_type": "code",
   "execution_count": 58,
   "id": "0948c06c",
   "metadata": {},
   "outputs": [
    {
     "data": {
      "text/plain": [
       "tensor([[1., 2.],\n",
       "        [3., 4.],\n",
       "        [5., 6.],\n",
       "        [3., 5.]])"
      ]
     },
     "execution_count": 58,
     "metadata": {},
     "output_type": "execute_result"
    }
   ],
   "source": [
    "x"
   ]
  },
  {
   "cell_type": "code",
   "execution_count": 53,
   "id": "8cba1e3e",
   "metadata": {},
   "outputs": [
    {
     "data": {
      "text/plain": [
       "(tensor([[1., 2.],\n",
       "         [3., 4.],\n",
       "         [5., 6.],\n",
       "         [3., 5.]]),\n",
       " tensor([[0.2666, 0.6274],\n",
       "         [0.2696, 0.4414],\n",
       "         [0.2969, 0.8317],\n",
       "         [0.1053, 0.2695]]),\n",
       " tensor([[[1.0000, 2.0000],\n",
       "          [3.0000, 4.0000],\n",
       "          [5.0000, 6.0000],\n",
       "          [3.0000, 5.0000]],\n",
       " \n",
       "         [[0.2666, 0.6274],\n",
       "          [0.2696, 0.4414],\n",
       "          [0.2969, 0.8317],\n",
       "          [0.1053, 0.2695]]]),\n",
       " tensor([[[1.0000, 2.0000],\n",
       "          [0.2666, 0.6274]],\n",
       " \n",
       "         [[3.0000, 4.0000],\n",
       "          [0.2696, 0.4414]],\n",
       " \n",
       "         [[5.0000, 6.0000],\n",
       "          [0.2969, 0.8317]],\n",
       " \n",
       "         [[3.0000, 5.0000],\n",
       "          [0.1053, 0.2695]]]))"
      ]
     },
     "execution_count": 53,
     "metadata": {},
     "output_type": "execute_result"
    }
   ],
   "source": [
    "x, a, b,c"
   ]
  },
  {
   "cell_type": "code",
   "execution_count": 61,
   "id": "7c7a16f7",
   "metadata": {},
   "outputs": [
    {
     "data": {
      "text/plain": [
       "torch.Size([1, 1, 8])"
      ]
     },
     "execution_count": 61,
     "metadata": {},
     "output_type": "execute_result"
    }
   ],
   "source": [
    "z.shape"
   ]
  },
  {
   "cell_type": "code",
   "execution_count": 63,
   "id": "51af2a67",
   "metadata": {},
   "outputs": [
    {
     "data": {
      "text/plain": [
       "torch.Size([8])"
      ]
     },
     "execution_count": 63,
     "metadata": {},
     "output_type": "execute_result"
    }
   ],
   "source": [
    "z.squeeze().shape"
   ]
  },
  {
   "cell_type": "code",
   "execution_count": 68,
   "id": "c639a8a0",
   "metadata": {},
   "outputs": [
    {
     "data": {
      "text/plain": [
       "<torch._C.Generator at 0x7776e4feff10>"
      ]
     },
     "execution_count": 68,
     "metadata": {},
     "output_type": "execute_result"
    }
   ],
   "source": [
    "torch.manual_seed(0)"
   ]
  },
  {
   "cell_type": "code",
   "execution_count": 69,
   "id": "e2dfa61c",
   "metadata": {},
   "outputs": [],
   "source": [
    "q1 = torch.rand(size=(7, 7))"
   ]
  },
  {
   "cell_type": "code",
   "execution_count": 70,
   "id": "9a91f589",
   "metadata": {},
   "outputs": [],
   "source": [
    "s = torch.rand(size=(1, 7))"
   ]
  },
  {
   "cell_type": "code",
   "execution_count": 71,
   "id": "14488f91",
   "metadata": {},
   "outputs": [
    {
     "data": {
      "text/plain": [
       "(torch.Size([7, 7]), torch.Size([1, 7]))"
      ]
     },
     "execution_count": 71,
     "metadata": {},
     "output_type": "execute_result"
    }
   ],
   "source": [
    "q1.shape, s.shape"
   ]
  },
  {
   "cell_type": "code",
   "execution_count": 73,
   "id": "3c31274e",
   "metadata": {},
   "outputs": [],
   "source": [
    "l = s @ q1"
   ]
  },
  {
   "cell_type": "code",
   "execution_count": 74,
   "id": "f6bcd89e",
   "metadata": {},
   "outputs": [
    {
     "data": {
      "text/plain": [
       "(tensor(2.8454), tensor(1.4257), tensor(2), tensor(6))"
      ]
     },
     "execution_count": 74,
     "metadata": {},
     "output_type": "execute_result"
    }
   ],
   "source": [
    "l.max(), l.min(), l.argmax(), l.argmin()"
   ]
  },
  {
   "cell_type": "code",
   "execution_count": 76,
   "id": "bf391621",
   "metadata": {},
   "outputs": [
    {
     "data": {
      "text/plain": [
       "(tensor([[[0.5349, 0.1988, 0.6592, 0.6569, 0.2328, 0.4251, 0.2071, 0.6297,\n",
       "           0.3653, 0.8513]]]),\n",
       " torch.Size([1, 1, 10]),\n",
       " tensor([0.5349, 0.1988, 0.6592, 0.6569, 0.2328, 0.4251, 0.2071, 0.6297, 0.3653,\n",
       "         0.8513]),\n",
       " torch.Size([10]))"
      ]
     },
     "execution_count": 76,
     "metadata": {},
     "output_type": "execute_result"
    }
   ],
   "source": [
    "torch.manual_seed(7)\n",
    "d = torch.rand(size=(1, 1, 10))\n",
    "k = d.squeeze()\n",
    "d, d.shape, k, k.shape"
   ]
  },
  {
   "cell_type": "code",
   "execution_count": null,
   "id": "6160c218",
   "metadata": {},
   "outputs": [],
   "source": []
  }
 ],
 "metadata": {
  "kernelspec": {
   "display_name": "base",
   "language": "python",
   "name": "python3"
  },
  "language_info": {
   "codemirror_mode": {
    "name": "ipython",
    "version": 3
   },
   "file_extension": ".py",
   "mimetype": "text/x-python",
   "name": "python",
   "nbconvert_exporter": "python",
   "pygments_lexer": "ipython3",
   "version": "3.13.5"
  }
 },
 "nbformat": 4,
 "nbformat_minor": 5
}
