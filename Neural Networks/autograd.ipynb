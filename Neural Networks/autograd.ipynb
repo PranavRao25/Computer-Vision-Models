{
 "cells": [
  {
   "cell_type": "code",
   "execution_count": 1,
   "id": "8d4d1734",
   "metadata": {},
   "outputs": [],
   "source": [
    "from src.Graph import *\n",
    "from src.Node import *\n",
    "from src.OptimizationAlgorithm import *"
   ]
  },
  {
   "cell_type": "code",
   "execution_count": null,
   "id": "a94608c9",
   "metadata": {},
   "outputs": [],
   "source": [
    "def create_fully_connected_network(layers):\n",
    "    nodes, parameters = [], []\n",
    "\n",
    "    input_node = InputNode()\n",
    "    nodes.append(input_node)\n",
    "\n",
    "    cur_input_node = input_node\n",
    "    prev_size = 3\n",
    "    for i, size in enumerate(layers):\n",
    "        bias_node = AddBiasNode(parents=[(cur_input_node, 0)])\n",
    "        parameter_node = ParameterNode(w=np.random.rand(prev_size, size) * 1 - 0.5)\n",
    "        prod_node = MultiplicationNode(parents=[\n",
    "            (bias_node, 0),\n",
    "            (parameter_node, 0)\n",
    "        ])\n",
    "\n",
    "        activation_node = TanhNode([(prod_node, 0)]) if i < len(layers) - 1 else SigmoidNode([(prod_node, 0)])\n",
    "        parameters.append(parameter_node)\n",
    "        nodes += [bias_node, parameter_node, prod_node, activation_node]\n",
    "        cur_input_node = activation_node\n",
    "        prev_size = size + 1\n",
    "    true_output_node = InputNode()\n",
    "    cost_node = BinaryCrossEntropyNode([(true_output_node, 0), (cur_input_node, 0)])\n",
    "    nodes += [true_output_node, cost_node]\n",
    "    \n",
    "    return ComputationalGraph(\n",
    "        nodes=nodes,\n",
    "        input_nodes=[input_node],\n",
    "        output_nodes=[cur_input_node],\n",
    "        true_output_nodes=[true_output_node],\n",
    "        cost_node=cost_node,\n",
    "        parameter_nodes=parameters\n",
    "        )\n"
   ]
  },
  {
   "cell_type": "code",
   "execution_count": 3,
   "id": "f26d8ab5",
   "metadata": {},
   "outputs": [],
   "source": [
    "layers = [4, 4, 1]\n",
    "graph = create_fully_connected_network(layers)\n",
    "sgd = GradientDescent(graph.get_parameter_nodes(), learning_rate=0.1)"
   ]
  },
  {
   "cell_type": "code",
   "execution_count": 5,
   "id": "9a25b3a2",
   "metadata": {},
   "outputs": [],
   "source": [
    "def boolean_function_dataset(function):\n",
    "\tX = np.array([[0, 0], [0, 1], [1, 0], [1, 1]])\n",
    "\tY = np.array([function(x) for x in X])\n",
    "\treturn X, Y\n",
    "\n",
    "def real_function_dataset(length, function, nb_inputs=2, x_min=0, x_max=1):\n",
    "\tX = np.random.rand(length, nb_inputs) * (x_max - x_min) + x_min\n",
    "\tY = np.array([function(x) for x in X])\n",
    "\treturn X, Y\n",
    "\n",
    "def or_dataset():\n",
    "\treturn boolean_function_dataset(lambda x: x[0] or x[1])\n",
    "\n",
    "def and_dataset():\n",
    "\treturn boolean_function_dataset(lambda x: x[0] and x[1])\n",
    "\n",
    "def xor_dataset():\n",
    "\treturn boolean_function_dataset(lambda x: (x[0] and not x[1]) or (not x[0] and x[1]))\n",
    "\n",
    "def plane_dataset(length, normal_vector=[1, -1]):\n",
    "\treturn real_function_dataset(length, lambda x: (np.dot(x, normal_vector) >= 0))\n",
    "\n",
    "def disk_dataset(length):\n",
    "\treturn real_function_dataset(length, lambda x: ((x[0] - 0.5)**2 + (x[1] - 0.5)**2) <= 0.25, x_min = -0.5, x_max=1.5)"
   ]
  },
  {
   "cell_type": "code",
   "execution_count": 6,
   "id": "1570a074",
   "metadata": {},
   "outputs": [],
   "source": [
    "X, Y = xor_dataset()"
   ]
  },
  {
   "cell_type": "code",
   "execution_count": 11,
   "id": "4b70b15a",
   "metadata": {},
   "outputs": [
    {
     "ename": "ValueError",
     "evalue": "all the input arrays must have same number of dimensions, but the array at index 0 has 2 dimension(s) and the array at index 1 has 1 dimension(s)",
     "output_type": "error",
     "traceback": [
      "\u001b[0;31m---------------------------------------------------------------------------\u001b[0m",
      "\u001b[0;31mValueError\u001b[0m                                Traceback (most recent call last)",
      "Cell \u001b[0;32mIn[11], line 6\u001b[0m\n\u001b[1;32m      3\u001b[0m n_passes \u001b[38;5;241m=\u001b[39m \u001b[38;5;241m10000\u001b[39m\n\u001b[1;32m      5\u001b[0m \u001b[38;5;28;01mfor\u001b[39;00m i \u001b[38;5;129;01min\u001b[39;00m \u001b[38;5;28mrange\u001b[39m(n_passes):\n\u001b[0;32m----> 6\u001b[0m     graph\u001b[38;5;241m.\u001b[39mforward(X)\n\u001b[1;32m      7\u001b[0m     cost \u001b[38;5;241m=\u001b[39m graph\u001b[38;5;241m.\u001b[39mbackward(Y) \u001b[38;5;241m/\u001b[39m X\u001b[38;5;241m.\u001b[39mshape[\u001b[38;5;241m0\u001b[39m]\n\u001b[1;32m      8\u001b[0m     sgd\u001b[38;5;241m.\u001b[39moptimize(X\u001b[38;5;241m.\u001b[39mshape[\u001b[38;5;241m0\u001b[39m])\n",
      "File \u001b[0;32m~/Projects/Computer-Vision-Models/Neural Networks/src/Graph.py:43\u001b[0m, in \u001b[0;36mComputationalGraph.forward\u001b[0;34m(self, X)\u001b[0m\n\u001b[1;32m     40\u001b[0m     node\u001b[38;5;241m.\u001b[39mset_value(x)\n\u001b[1;32m     42\u001b[0m \u001b[38;5;66;03m# propagate through the network (by recursive back calling)\u001b[39;00m\n\u001b[0;32m---> 43\u001b[0m \u001b[38;5;28;01mreturn\u001b[39;00m np\u001b[38;5;241m.\u001b[39marray([node\u001b[38;5;241m.\u001b[39mget_output(\u001b[38;5;241m0\u001b[39m) \u001b[38;5;28;01mfor\u001b[39;00m node \u001b[38;5;129;01min\u001b[39;00m \u001b[38;5;28mself\u001b[39m\u001b[38;5;241m.\u001b[39moutput_nodes])\n",
      "File \u001b[0;32m~/Projects/Computer-Vision-Models/Neural Networks/src/Node.py:58\u001b[0m, in \u001b[0;36mBaseNode.get_output\u001b[0;34m(self, index_cur_output)\u001b[0m\n\u001b[1;32m     50\u001b[0m \u001b[38;5;250m\u001b[39m\u001b[38;5;124;03m\"\"\"\u001b[39;00m\n\u001b[1;32m     51\u001b[0m \u001b[38;5;124;03m    Used for Forward Propagation\u001b[39;00m\n\u001b[1;32m     52\u001b[0m \u001b[38;5;124;03m    Gets the output value from the given index out of the current node's output array\u001b[39;00m\n\u001b[1;32m     53\u001b[0m \u001b[38;5;124;03m    :param index_cur_output: Index to read from the output array\u001b[39;00m\n\u001b[1;32m     54\u001b[0m \u001b[38;5;124;03m\"\"\"\u001b[39;00m\n\u001b[1;32m     56\u001b[0m \u001b[38;5;28;01mif\u001b[39;00m \u001b[38;5;28mself\u001b[39m\u001b[38;5;241m.\u001b[39moutput_present: \u001b[38;5;66;03m# parents have already their outputs ready\u001b[39;00m\n\u001b[1;32m     57\u001b[0m     \u001b[38;5;28mself\u001b[39m\u001b[38;5;241m.\u001b[39mx \u001b[38;5;241m=\u001b[39m np\u001b[38;5;241m.\u001b[39marray([\n\u001b[0;32m---> 58\u001b[0m         parent\u001b[38;5;241m.\u001b[39mget_output(index_parent_output)\n\u001b[1;32m     59\u001b[0m         \u001b[38;5;28;01mfor\u001b[39;00m (parent, index_parent_output) \u001b[38;5;129;01min\u001b[39;00m \u001b[38;5;28mself\u001b[39m\u001b[38;5;241m.\u001b[39mparents\n\u001b[1;32m     60\u001b[0m     ])\n\u001b[1;32m     61\u001b[0m     \u001b[38;5;28mself\u001b[39m\u001b[38;5;241m.\u001b[39my \u001b[38;5;241m=\u001b[39m \u001b[38;5;28mself\u001b[39m\u001b[38;5;241m.\u001b[39mcompute_output()\n\u001b[1;32m     62\u001b[0m     \u001b[38;5;28mself\u001b[39m\u001b[38;5;241m.\u001b[39moutput_present \u001b[38;5;241m=\u001b[39m \u001b[38;5;28;01mFalse\u001b[39;00m\n",
      "File \u001b[0;32m~/Projects/Computer-Vision-Models/Neural Networks/src/Node.py:58\u001b[0m, in \u001b[0;36mBaseNode.get_output\u001b[0;34m(self, index_cur_output)\u001b[0m\n\u001b[1;32m     50\u001b[0m \u001b[38;5;250m\u001b[39m\u001b[38;5;124;03m\"\"\"\u001b[39;00m\n\u001b[1;32m     51\u001b[0m \u001b[38;5;124;03m    Used for Forward Propagation\u001b[39;00m\n\u001b[1;32m     52\u001b[0m \u001b[38;5;124;03m    Gets the output value from the given index out of the current node's output array\u001b[39;00m\n\u001b[1;32m     53\u001b[0m \u001b[38;5;124;03m    :param index_cur_output: Index to read from the output array\u001b[39;00m\n\u001b[1;32m     54\u001b[0m \u001b[38;5;124;03m\"\"\"\u001b[39;00m\n\u001b[1;32m     56\u001b[0m \u001b[38;5;28;01mif\u001b[39;00m \u001b[38;5;28mself\u001b[39m\u001b[38;5;241m.\u001b[39moutput_present: \u001b[38;5;66;03m# parents have already their outputs ready\u001b[39;00m\n\u001b[1;32m     57\u001b[0m     \u001b[38;5;28mself\u001b[39m\u001b[38;5;241m.\u001b[39mx \u001b[38;5;241m=\u001b[39m np\u001b[38;5;241m.\u001b[39marray([\n\u001b[0;32m---> 58\u001b[0m         parent\u001b[38;5;241m.\u001b[39mget_output(index_parent_output)\n\u001b[1;32m     59\u001b[0m         \u001b[38;5;28;01mfor\u001b[39;00m (parent, index_parent_output) \u001b[38;5;129;01min\u001b[39;00m \u001b[38;5;28mself\u001b[39m\u001b[38;5;241m.\u001b[39mparents\n\u001b[1;32m     60\u001b[0m     ])\n\u001b[1;32m     61\u001b[0m     \u001b[38;5;28mself\u001b[39m\u001b[38;5;241m.\u001b[39my \u001b[38;5;241m=\u001b[39m \u001b[38;5;28mself\u001b[39m\u001b[38;5;241m.\u001b[39mcompute_output()\n\u001b[1;32m     62\u001b[0m     \u001b[38;5;28mself\u001b[39m\u001b[38;5;241m.\u001b[39moutput_present \u001b[38;5;241m=\u001b[39m \u001b[38;5;28;01mFalse\u001b[39;00m\n",
      "    \u001b[0;31m[... skipping similar frames: BaseNode.get_output at line 58 (5 times)]\u001b[0m\n",
      "File \u001b[0;32m~/Projects/Computer-Vision-Models/Neural Networks/src/Node.py:58\u001b[0m, in \u001b[0;36mBaseNode.get_output\u001b[0;34m(self, index_cur_output)\u001b[0m\n\u001b[1;32m     50\u001b[0m \u001b[38;5;250m\u001b[39m\u001b[38;5;124;03m\"\"\"\u001b[39;00m\n\u001b[1;32m     51\u001b[0m \u001b[38;5;124;03m    Used for Forward Propagation\u001b[39;00m\n\u001b[1;32m     52\u001b[0m \u001b[38;5;124;03m    Gets the output value from the given index out of the current node's output array\u001b[39;00m\n\u001b[1;32m     53\u001b[0m \u001b[38;5;124;03m    :param index_cur_output: Index to read from the output array\u001b[39;00m\n\u001b[1;32m     54\u001b[0m \u001b[38;5;124;03m\"\"\"\u001b[39;00m\n\u001b[1;32m     56\u001b[0m \u001b[38;5;28;01mif\u001b[39;00m \u001b[38;5;28mself\u001b[39m\u001b[38;5;241m.\u001b[39moutput_present: \u001b[38;5;66;03m# parents have already their outputs ready\u001b[39;00m\n\u001b[1;32m     57\u001b[0m     \u001b[38;5;28mself\u001b[39m\u001b[38;5;241m.\u001b[39mx \u001b[38;5;241m=\u001b[39m np\u001b[38;5;241m.\u001b[39marray([\n\u001b[0;32m---> 58\u001b[0m         parent\u001b[38;5;241m.\u001b[39mget_output(index_parent_output)\n\u001b[1;32m     59\u001b[0m         \u001b[38;5;28;01mfor\u001b[39;00m (parent, index_parent_output) \u001b[38;5;129;01min\u001b[39;00m \u001b[38;5;28mself\u001b[39m\u001b[38;5;241m.\u001b[39mparents\n\u001b[1;32m     60\u001b[0m     ])\n\u001b[1;32m     61\u001b[0m     \u001b[38;5;28mself\u001b[39m\u001b[38;5;241m.\u001b[39my \u001b[38;5;241m=\u001b[39m \u001b[38;5;28mself\u001b[39m\u001b[38;5;241m.\u001b[39mcompute_output()\n\u001b[1;32m     62\u001b[0m     \u001b[38;5;28mself\u001b[39m\u001b[38;5;241m.\u001b[39moutput_present \u001b[38;5;241m=\u001b[39m \u001b[38;5;28;01mFalse\u001b[39;00m\n",
      "File \u001b[0;32m~/Projects/Computer-Vision-Models/Neural Networks/src/Node.py:61\u001b[0m, in \u001b[0;36mBaseNode.get_output\u001b[0;34m(self, index_cur_output)\u001b[0m\n\u001b[1;32m     56\u001b[0m \u001b[38;5;28;01mif\u001b[39;00m \u001b[38;5;28mself\u001b[39m\u001b[38;5;241m.\u001b[39moutput_present: \u001b[38;5;66;03m# parents have already their outputs ready\u001b[39;00m\n\u001b[1;32m     57\u001b[0m     \u001b[38;5;28mself\u001b[39m\u001b[38;5;241m.\u001b[39mx \u001b[38;5;241m=\u001b[39m np\u001b[38;5;241m.\u001b[39marray([\n\u001b[1;32m     58\u001b[0m         parent\u001b[38;5;241m.\u001b[39mget_output(index_parent_output)\n\u001b[1;32m     59\u001b[0m         \u001b[38;5;28;01mfor\u001b[39;00m (parent, index_parent_output) \u001b[38;5;129;01min\u001b[39;00m \u001b[38;5;28mself\u001b[39m\u001b[38;5;241m.\u001b[39mparents\n\u001b[1;32m     60\u001b[0m     ])\n\u001b[0;32m---> 61\u001b[0m     \u001b[38;5;28mself\u001b[39m\u001b[38;5;241m.\u001b[39my \u001b[38;5;241m=\u001b[39m \u001b[38;5;28mself\u001b[39m\u001b[38;5;241m.\u001b[39mcompute_output()\n\u001b[1;32m     62\u001b[0m     \u001b[38;5;28mself\u001b[39m\u001b[38;5;241m.\u001b[39moutput_present \u001b[38;5;241m=\u001b[39m \u001b[38;5;28;01mFalse\u001b[39;00m\n\u001b[1;32m     63\u001b[0m \u001b[38;5;28;01mreturn\u001b[39;00m \u001b[38;5;28mself\u001b[39m\u001b[38;5;241m.\u001b[39my[index_cur_output]\n",
      "File \u001b[0;32m~/Projects/Computer-Vision-Models/Neural Networks/src/Node.py:215\u001b[0m, in \u001b[0;36mAddBiasNode.compute_output\u001b[0;34m(self)\u001b[0m\n\u001b[1;32m    213\u001b[0m \u001b[38;5;28;01mdef\u001b[39;00m\u001b[38;5;250m \u001b[39m\u001b[38;5;21mcompute_output\u001b[39m(\u001b[38;5;28mself\u001b[39m) \u001b[38;5;241m-\u001b[39m\u001b[38;5;241m>\u001b[39m np\u001b[38;5;241m.\u001b[39mndarray:\n\u001b[1;32m    214\u001b[0m     \u001b[38;5;28;01mreturn\u001b[39;00m np\u001b[38;5;241m.\u001b[39marray([\n\u001b[0;32m--> 215\u001b[0m         np\u001b[38;5;241m.\u001b[39mconcatenate((\n\u001b[1;32m    216\u001b[0m                 np\u001b[38;5;241m.\u001b[39mones((\u001b[38;5;28mself\u001b[39m\u001b[38;5;241m.\u001b[39mx[\u001b[38;5;241m0\u001b[39m]\u001b[38;5;241m.\u001b[39mshape[\u001b[38;5;241m0\u001b[39m], \u001b[38;5;241m1\u001b[39m)),\n\u001b[1;32m    217\u001b[0m                 \u001b[38;5;28mself\u001b[39m\u001b[38;5;241m.\u001b[39mx[\u001b[38;5;241m0\u001b[39m]\n\u001b[1;32m    218\u001b[0m             ),\n\u001b[1;32m    219\u001b[0m             axis\u001b[38;5;241m=\u001b[39m\u001b[38;5;241m1\u001b[39m\n\u001b[1;32m    220\u001b[0m     )])\n",
      "\u001b[0;31mValueError\u001b[0m: all the input arrays must have same number of dimensions, but the array at index 0 has 2 dimension(s) and the array at index 1 has 1 dimension(s)"
     ]
    }
   ],
   "source": [
    "t = []\n",
    "costs = []\n",
    "n_passes = 10000\n",
    "\n",
    "for i in range(n_passes):\n",
    "    graph.forward(X)\n",
    "    cost = graph.backward(Y) / X.shape[0]\n",
    "    sgd.optimize(X.shape[0])\n",
    "\n",
    "    t.append(i)\n",
    "    costs.append(cost)\n",
    "    print(cost)"
   ]
  },
  {
   "cell_type": "code",
   "execution_count": null,
   "id": "8b63fcbe",
   "metadata": {},
   "outputs": [],
   "source": []
  }
 ],
 "metadata": {
  "kernelspec": {
   "display_name": "base",
   "language": "python",
   "name": "python3"
  },
  "language_info": {
   "codemirror_mode": {
    "name": "ipython",
    "version": 3
   },
   "file_extension": ".py",
   "mimetype": "text/x-python",
   "name": "python",
   "nbconvert_exporter": "python",
   "pygments_lexer": "ipython3",
   "version": "3.13.5"
  }
 },
 "nbformat": 4,
 "nbformat_minor": 5
}
